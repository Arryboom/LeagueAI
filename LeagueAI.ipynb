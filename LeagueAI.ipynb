{
 "cells": [
  {
   "cell_type": "markdown",
   "metadata": {},
   "source": [
    "# Imports and environment setup"
   ]
  },
  {
   "cell_type": "code",
   "execution_count": null,
   "metadata": {
    "collapsed": true,
    "scrolled": true
   },
   "outputs": [],
   "source": [
    "import numpy as np\n",
    "import os\n",
    "import six.moves.urllib as urllib\n",
    "import sys\n",
    "import tarfile\n",
    "import tensorflow as tf\n",
    "import zipfile\n",
    "from collections import defaultdict\n",
    "from io import StringIO\n",
    "from matplotlib import pyplot as plt\n",
    "from PIL import Image\n",
    "#from PIL import ImageGrab\n",
    "import cv2\n",
    "import time\n",
    "from mss import mss\n",
    "\n",
    "#mouse control and window dimensions\n",
    "SCREEN_WIDTH = 1280\n",
    "SCREEN_HEIGHT = 1024\n",
    "MONITOR_WIDTH = 800\n",
    "MONITOR_HEIGHT = 640\n",
    "import win32api, win32con\n",
    "#Player Control\n",
    "click_cooldown = 0.5\n",
    "\n",
    "# This is needed since the notebook is stored in the object_detection folder.\n",
    "sys.path.append(\"..\")\n",
    "from utils import label_map_util\n",
    "from utils import visualization_utils as vis_util"
   ]
  },
  {
   "cell_type": "markdown",
   "metadata": {},
   "source": [
    "# Load Model"
   ]
  },
  {
   "cell_type": "code",
   "execution_count": null,
   "metadata": {
    "collapsed": true
   },
   "outputs": [],
   "source": [
    "#Select model in the same folder as this script\n",
    "MODEL_NAME = 'LeagueAI_v3'\n",
    "MODEL_FILE = MODEL_NAME + '.tar.gz'\n",
    "#DOWNLOAD_BASE = 'http://download.tensorflow.org/models/object_detection/'\n",
    "# Path to frozen detection graph. This is the actual model that is used for the object detection.\n",
    "PATH_TO_CKPT = MODEL_NAME + '/frozen_inference_graph.pb'\n",
    "\n",
    "# List of the strings that is used to add correct label for each box.\n",
    "PATH_TO_LABELS = os.path.join('training', 'LeagueAI_v2.pbtxt')\n",
    "\n",
    "NUM_CLASSES = 3"
   ]
  },
  {
   "cell_type": "markdown",
   "metadata": {},
   "source": [
    "## Load the frozen model into memory"
   ]
  },
  {
   "cell_type": "code",
   "execution_count": null,
   "metadata": {
    "collapsed": true,
    "scrolled": true
   },
   "outputs": [],
   "source": [
    "detection_graph = tf.Graph()\n",
    "with detection_graph.as_default():\n",
    "  od_graph_def = tf.GraphDef()\n",
    "  with tf.gfile.GFile(PATH_TO_CKPT, 'rb') as fid:\n",
    "    serialized_graph = fid.read()\n",
    "    od_graph_def.ParseFromString(serialized_graph)\n",
    "    tf.import_graph_def(od_graph_def, name='')"
   ]
  },
  {
   "cell_type": "markdown",
   "metadata": {},
   "source": [
    "## Loading label map"
   ]
  },
  {
   "cell_type": "code",
   "execution_count": null,
   "metadata": {
    "collapsed": true
   },
   "outputs": [],
   "source": [
    "label_map = label_map_util.load_labelmap(PATH_TO_LABELS)\n",
    "categories = label_map_util.convert_label_map_to_categories(label_map, max_num_classes=NUM_CLASSES, use_display_name=True)\n",
    "category_index = label_map_util.create_category_index(categories)"
   ]
  },
  {
   "cell_type": "markdown",
   "metadata": {},
   "source": [
    "## Helper code"
   ]
  },
  {
   "cell_type": "code",
   "execution_count": null,
   "metadata": {
    "collapsed": true,
    "scrolled": false
   },
   "outputs": [],
   "source": [
    "## Other"
   ]
  },
  {
   "cell_type": "code",
   "execution_count": null,
   "metadata": {
    "scrolled": true
   },
   "outputs": [],
   "source": [
    "## Champion helper classes\n",
    "# click a postion in the screen using x,y coordinates\n",
    "def click(x,y):\n",
    "    win32api.SetCursorPos((x,y))\n",
    "    win32api.mouse_event(win32con.MOUSEEVENTF_LEFTDOWN,x,y,0,0)\n",
    "    win32api.mouse_event(win32con.MOUSEEVENTF_LEFTUP,x,y,0,0)\n",
    "# find the player character position marked as x,y (converting the boxes to a single point position)\n",
    "def find_box_xy(box):\n",
    "    playerwidth =  (box[3] - box[1])\n",
    "    playerheight = box[2] - box[0]\n",
    "    playerpos_y = (box[0] + playerheight/1.3)\n",
    "    playerpos_x = (box[1] + playerwidth/2)\n",
    "    return([playerpos_y, playerpos_x, playerheight, playerwidth])\n",
    "# find out in which state on object is\n",
    "def find_object_state(grid, minion_origin, player_origin):\n",
    "    x_object = (minion_origin[0]/MONITOR_WIDTH)*SCREEN_WIDTH\n",
    "    y_object = (minion_origin[1]/MONITOR_HEIGHT)*SCREEN_HEIGHT\n",
    "    x_player = (player_origin[0]/MONITOR_WIDTH)*SCREEN_WIDTH\n",
    "    y_player = (player_origin[1]/MONITOR_HEIGHT)*SCREEN_HEIGHT\n",
    "    print(x_player)\n",
    "    #TODO find out in which state an enemy minion is and return the state\n",
    "    state_x = 1\n",
    "    state_y = 1\n",
    "    return([state_x, state_y])\n",
    "# click a certain state given by x and y coordinate in the state grid\n",
    "def click_state(state_x, state_y, state_width, state_height, player_origin):\n",
    "    x_click = (player_origin[0]/MONITOR_WIDTH)*SCREEN_WIDTH + state_x*(state_width/MONITOR_WIDTH)*SCREEN_WIDTH\n",
    "    y_click = (player_origin[1]/MONITOR_HEIGHT)*SCREEN_HEIGHT + (-1*state_y*(state_height/MONITOR_HEIGHT)*SCREEN_HEIGHT)\n",
    "    click(int(x_click), int(y_click))\n",
    "# set a certain state in the grid to a certain value to mark for example the type of unit in the state\n",
    "def set_array_pos(grid, x, y, value, x_grid_size_in, y_grid_size_in):\n",
    "    # make sure that we do not overwrite the state of our player character in the grid\n",
    "    if not value == 1 and x == 0 and y == 0:\n",
    "        return grid\n",
    "    # resize grid in case we got uneven grid sizes\n",
    "    if x_grid_size_in%2==1:\n",
    "        x_grid_size = x_grid_size_in - 1\n",
    "    else:\n",
    "        x_grid_size = x_grid_size_in\n",
    "    if y_grid_size_in%2==1:\n",
    "        y_grid_size = y_grid_size_in -1\n",
    "    else:\n",
    "        y_grid_size = y_grid_size_in\n",
    "    \n",
    "    x_pos = x + int(x_grid_size/2)\n",
    "    y_pos = y + int(y_grid_size/2)\n",
    "    grid[x_pos][y_pos] = value    \n",
    "    return grid"
   ]
  },
  {
   "cell_type": "code",
   "execution_count": null,
   "metadata": {
    "collapsed": true
   },
   "outputs": [],
   "source": [
    "## Intelligence\n",
    "# TODO"
   ]
  },
  {
   "cell_type": "markdown",
   "metadata": {},
   "source": [
    "## Main Routine"
   ]
  },
  {
   "cell_type": "code",
   "execution_count": null,
   "metadata": {
    "scrolled": true
   },
   "outputs": [],
   "source": [
    "sct = mss()\n",
    "# determine the size of the area to observe (the game)\n",
    "mon = {'top': 0, 'left': 0, 'width': SCREEN_WIDTH, 'height': SCREEN_HEIGHT}\n",
    "# timer to see how fast the loop is running\n",
    "last_time = time.time()\n",
    "with detection_graph.as_default():\n",
    "  with tf.Session(graph=detection_graph) as sess:\n",
    "    while True:\n",
    "      print('Loop took: {} seconds'.format(time.time()-last_time))\n",
    "      last_time = time.time()\n",
    "      #screen = cv2.resize(grab_screen(region=(0,40,1024,768)), (800,450))\n",
    "      #screen = np.array(ImageGrab.grab(bbox=(0,40,1024,768)))\n",
    "      # get screen recording and resize it to 800x450 pixels for output\n",
    "      sct.get_pixels(mon)\n",
    "      screen = Image.frombytes('RGB', (sct.width, sct.height), sct.image)\n",
    "      screen = np.array(screen)\n",
    "      screen = cv2.resize(screen, (MONITOR_WIDTH, MONITOR_HEIGHT))\n",
    "      image_np = screen\n",
    "      # ===================tensorflow code===============\n",
    "      # Expand dimensions since the model expects images to have shape: [1, None, None, 3]\n",
    "      image_np_expanded = np.expand_dims(image_np, axis=0)\n",
    "      image_tensor = detection_graph.get_tensor_by_name('image_tensor:0')\n",
    "      # Each box represents a part of the image where a particular object was detected.\n",
    "      boxes = detection_graph.get_tensor_by_name('detection_boxes:0')\n",
    "      # Each score represent how level of confidence for each of the objects.\n",
    "      # Score is shown on the result image, together with the class label.\n",
    "      scores = detection_graph.get_tensor_by_name('detection_scores:0')\n",
    "      classes = detection_graph.get_tensor_by_name('detection_classes:0')\n",
    "      num_detections = detection_graph.get_tensor_by_name('num_detections:0')\n",
    "      # Actual detection.\n",
    "      (boxes, scores, classes, num_detections) = sess.run(\n",
    "          [boxes, scores, classes, num_detections],\n",
    "          feed_dict={image_tensor: image_np_expanded})                  \n",
    "      \n",
    "      # ====================================================  \n",
    "      # Visualization of the results of a detection\n",
    "      vis_util.visualize_boxes_and_labels_on_image_array(\n",
    "          image_np,\n",
    "          np.squeeze(boxes),\n",
    "          np.squeeze(classes).astype(np.int32),\n",
    "          np.squeeze(scores),\n",
    "          category_index,\n",
    "          use_normalized_coordinates=True,\n",
    "          min_score_thresh=0.25,\n",
    "          line_thickness=4)\n",
    "\n",
    "      #===================Player Character=======================\n",
    "      gameover = False\n",
    "      vayne_found = False;\n",
    "      for i,b in enumerate(boxes[0]):\n",
    "          if scores[0][i] >= 0.25:\n",
    "              #Vaynefound makes sure that the whole grid + decision proces only executed once per detection in case of a multi detection\n",
    "              if classes[0][i] == 1 and vayne_found == False:\n",
    "                  vayne_found = True;\n",
    "                  player_position = find_box_xy(boxes[0][i])\n",
    "                  #click(int(player_position[1]*SCREEN_WIDTH), int(player_position[0]*SCREEN_HEIGHT))\n",
    "                  #draw a circle where the character is\n",
    "                  player_origin = [int(player_position[1]*MONITOR_WIDTH), int(player_position[0]*MONITOR_HEIGHT)]\n",
    "                  cv2.circle(image_np, (player_origin[0], player_origin[1]), 2, (0, 0, 255), 2)\n",
    "                  #calculate the origin of the center rectangle under the character\n",
    "                  origin = [int(player_origin[0]+9)-int(player_position[2]*MONITOR_WIDTH/3), player_origin[1]-15,int(player_origin[0])+20, int(player_origin[1])+18]        \n",
    "                  cv2.rectangle(image_np,(origin[0], origin[1]),(origin[2], origin[3]), (0, 255, 0), 1)\n",
    "                  #create draw states\n",
    "                  w = origin[2] - origin[0]\n",
    "                  h = origin[3] - origin[1]\n",
    "                  grid_x = int(SCREEN_WIDTH/w)\n",
    "                  grid_y = int(SCREEN_HEIGHT/h)\n",
    "                  dim = (grid_x,grid_y)\n",
    "                  unit_grid = np.zeros(dim) \n",
    "                  #set the origin of the grid to be the player character represented by a 1\n",
    "                  #the grid goes from -grid_x/2 to grid_x/2 because the player is the center and everything left and under it is negative\n",
    "                  unit_grid = set_array_pos(unit_grid,0,0,1,grid_x,grid_y)\n",
    "                  #=======DETECT OBJECTS=======\n",
    "                  #1.Minions\n",
    "                  for j,k in enumerate(boxes[0]):\n",
    "                      if scores[0][j] >= 0.25:\n",
    "                          if classes[0][j] == 2:\n",
    "                              cur_minion_position = find_box_xy(boxes[0][j])\n",
    "                              cur_minion_origin = [int(cur_minion_position[1]*MONITOR_WIDTH), int(cur_minion_position[0]*MONITOR_HEIGHT)]\n",
    "                              cv2.circle(image_np, (cur_minion_origin[0], cur_minion_origin[1]), 2, (0, 0, 255), 2)\n",
    "                              #Find in which state in the unit_grid the minion is\n",
    "                              cur_minion_state = find_object_state(unit_grid, cur_minion_origin, player_origin)\n",
    "                              unit_grid = set_array_pos(unit_grid,cur_minion_state[0],cur_minion_state[1],2,grid_x,grid_y)\n",
    "                              \n",
    "                    \n",
    "                    \n",
    "                  #=============================\n",
    "                  #Visualize Objects\n",
    "                  for x in range(len(unit_grid)):\n",
    "                      for y in range(len(unit_grid[0])):\n",
    "                          #cv2.rectangle(image_np,(origin[0]+w*x, origin[1]+h*y),(origin[2]+w*x, origin[3]+h*y), (0, 255, 0), 1)\n",
    "                          if unit_grid[x][y] == 1:\n",
    "                          #Paint player rectangle blue\n",
    "                              cv2.rectangle(image_np,(origin[0]+w*x-int(grid_x/2)*w, origin[1]+h*y-int(grid_y/2)*h),(origin[2]+w*x-int(grid_x/2)*w, origin[3]+h*y-int(grid_y/2)*h), (0, 255, 0), 1)\n",
    "                              cv2.rectangle(image_np,(origin[0]+2+w*x-int(grid_x/2)*w, origin[1]+2+h*y-int(grid_y/2)*h),(origin[2]-2+w*x-int(grid_x/2)*w, origin[3]-2+h*y-int(grid_y/2)*h), (0, 0, 255), 2)\n",
    "                          elif unit_grid[x][y] == 2:\n",
    "                              cv2.rectangle(image_np,(origin[0]+2+w*x-int(grid_x/2)*w, origin[1]+2+h*y-int(grid_y/2)*h),(origin[2]-2+w*x-int(grid_x/2)*w, origin[3]-2+h*y-int(grid_y/2)*h), (255, 0, 0), 2)\n",
    "                          else:\n",
    "                              # draw empty rectangles green\n",
    "                              cv2.rectangle(image_np,(origin[0]+w*x-int(grid_x/2)*w, origin[1]+h*y-int(grid_y/2)*h),(origin[2]+w*x-int(grid_x/2)*w, origin[3]+h*y-int(grid_y/2)*h), (0, 255, 0), 1)\n",
    "                  #=======Decision Making========\n",
    "                \n",
    "                  #=======Markov Process==========\n",
    "                    \n",
    "                  #=======Execute Click===========\n",
    "                  #click_state(1,1,w,h, player_origin)\n",
    "      # ==================OPEN CV visualization=================\n",
    "      cv2.imshow('window',image_np)\n",
    "      if (cv2.waitKey(25) & 0xFF == ord('q')):\n",
    "          cv2.destroyAllWindows()\n",
    "          break\n",
    "      if gameover == True:\n",
    "          print('gameover')\n",
    "          cv2.destroyAllWindows()\n",
    "          break;\n"
   ]
  },
  {
   "cell_type": "code",
   "execution_count": null,
   "metadata": {
    "collapsed": true
   },
   "outputs": [],
   "source": []
  }
 ],
 "metadata": {
  "kernelspec": {
   "display_name": "Python 3",
   "language": "python",
   "name": "python3"
  },
  "language_info": {
   "codemirror_mode": {
    "name": "ipython",
    "version": 3
   },
   "file_extension": ".py",
   "mimetype": "text/x-python",
   "name": "python",
   "nbconvert_exporter": "python",
   "pygments_lexer": "ipython3",
   "version": "3.6.2"
  }
 },
 "nbformat": 4,
 "nbformat_minor": 2
}
